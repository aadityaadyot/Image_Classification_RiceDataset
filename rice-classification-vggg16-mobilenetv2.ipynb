{
 "cells": [
  {
   "cell_type": "markdown",
   "id": "2e6f9aed",
   "metadata": {
    "papermill": {
     "duration": 0.011706,
     "end_time": "2024-01-26T05:53:44.802841",
     "exception": false,
     "start_time": "2024-01-26T05:53:44.791135",
     "status": "completed"
    },
    "tags": []
   },
   "source": [
    "## Rice Classification Dataset | VGGG16 | MobileNetV2\n",
    "\n",
    "![Image Description](https://storage.googleapis.com/kaggle-datasets-images/1440465/2383148/a0e3fd28291e070647f3293db0d12445/dataset-cover.jpg?t=2021-06-30-14-58-16)\n"
   ]
  },
  {
   "cell_type": "markdown",
   "id": "bd5d2c38",
   "metadata": {
    "papermill": {
     "duration": 0.010511,
     "end_time": "2024-01-26T05:53:44.824466",
     "exception": false,
     "start_time": "2024-01-26T05:53:44.813955",
     "status": "completed"
    },
    "tags": []
   },
   "source": []
  },
  {
   "cell_type": "markdown",
   "id": "3494dbc3",
   "metadata": {
    "papermill": {
     "duration": 0.010604,
     "end_time": "2024-01-26T05:53:44.846074",
     "exception": false,
     "start_time": "2024-01-26T05:53:44.835470",
     "status": "completed"
    },
    "tags": []
   },
   "source": [
    "## Importing Libraries"
   ]
  },
  {
   "cell_type": "code",
   "execution_count": 1,
   "id": "7e0be860",
   "metadata": {
    "execution": {
     "iopub.execute_input": "2024-01-26T05:53:44.870154Z",
     "iopub.status.busy": "2024-01-26T05:53:44.869814Z",
     "iopub.status.idle": "2024-01-26T05:53:57.939476Z",
     "shell.execute_reply": "2024-01-26T05:53:57.938585Z"
    },
    "papermill": {
     "duration": 13.084882,
     "end_time": "2024-01-26T05:53:57.941953",
     "exception": false,
     "start_time": "2024-01-26T05:53:44.857071",
     "status": "completed"
    },
    "tags": []
   },
   "outputs": [
    {
     "name": "stderr",
     "output_type": "stream",
     "text": [
      "/opt/conda/lib/python3.10/site-packages/scipy/__init__.py:146: UserWarning: A NumPy version >=1.16.5 and <1.23.0 is required for this version of SciPy (detected version 1.24.3\n",
      "  warnings.warn(f\"A NumPy version >={np_minversion} and <{np_maxversion}\"\n"
     ]
    }
   ],
   "source": [
    "import numpy as np  # For numerical operations and array manipulation\n",
    "import pandas as pd  # For data manipulation and analysis\n",
    "import matplotlib.pyplot as plt  # For plotting graphs and visualizations\n",
    "import seaborn as sns  # For statistical data visualization\n",
    "\n",
    "import cv2  # For image processing and computer vision tasks\n",
    "import random  # For generating random numbers\n",
    "import os  # For interacting with the operating system\n",
    "\n",
    "import keras  # High-level neural networks API\n",
    "import tensorflow as tf  # Machine learning and deep learning framework\n",
    "from tqdm import tqdm  # For displaying progress bars\n",
    "from sklearn.model_selection import train_test_split  # For splitting dataset into training and testing sets\n",
    "from sklearn.preprocessing import LabelEncoder  # For encoding labels into numerical format\n",
    "from keras.callbacks import EarlyStopping, ReduceLROnPlateau  # Callbacks for optimizing training process\n",
    "from tensorflow.keras.applications import *  # Importing pre-trained models for transfer learning\n",
    "from tensorflow.keras.preprocessing.image import ImageDataGenerator, load_img  # For image data augmentation and loading images\n",
    "from tensorflow.keras.models import Sequential  # For creating sequential model\n",
    "from tensorflow.keras.layers import Conv2D, Dense, MaxPooling2D, Dropout, Flatten, BatchNormalization  # Different types of neural network layers\n",
    "from tensorflow.keras.optimizers import Adam  # Optimizer for training\n",
    "from sklearn.metrics import accuracy_score, confusion_matrix, classification_report  # For evaluating model performance\n",
    "\n"
   ]
  },
  {
   "cell_type": "markdown",
   "id": "81cf7832",
   "metadata": {
    "papermill": {
     "duration": 0.010441,
     "end_time": "2024-01-26T05:53:57.963397",
     "exception": false,
     "start_time": "2024-01-26T05:53:57.952956",
     "status": "completed"
    },
    "tags": []
   },
   "source": []
  },
  {
   "cell_type": "markdown",
   "id": "61808ad1",
   "metadata": {
    "papermill": {
     "duration": 0.010268,
     "end_time": "2024-01-26T05:53:57.984379",
     "exception": false,
     "start_time": "2024-01-26T05:53:57.974111",
     "status": "completed"
    },
    "tags": []
   },
   "source": [
    "## Reading Dataset"
   ]
  },
  {
   "cell_type": "markdown",
   "id": "6c9da8b0",
   "metadata": {
    "papermill": {
     "duration": 0.010215,
     "end_time": "2024-01-26T05:53:58.004963",
     "exception": false,
     "start_time": "2024-01-26T05:53:57.994748",
     "status": "completed"
    },
    "tags": []
   },
   "source": [
    "\n",
    "This code navigates through a directory of images, categorizing them based on subdirectory names. For each image, it stores the image path in image_paths and the corresponding category label in category_labels, creating two parallel lists for image processing or machine learning applications."
   ]
  },
  {
   "cell_type": "code",
   "execution_count": 2,
   "id": "7afa86a5",
   "metadata": {
    "execution": {
     "iopub.execute_input": "2024-01-26T05:53:58.028247Z",
     "iopub.status.busy": "2024-01-26T05:53:58.027268Z",
     "iopub.status.idle": "2024-01-26T05:54:01.453354Z",
     "shell.execute_reply": "2024-01-26T05:54:01.452564Z"
    },
    "papermill": {
     "duration": 3.440252,
     "end_time": "2024-01-26T05:54:01.455610",
     "exception": false,
     "start_time": "2024-01-26T05:53:58.015358",
     "status": "completed"
    },
    "tags": []
   },
   "outputs": [],
   "source": [
    "file_path='/kaggle/input/rice-image-dataset/Rice_Image_Dataset'   \n",
    "        \n",
    "image_paths = []  # List to store image file paths\n",
    "category_labels = []  # List to store category labels of images\n",
    "\n",
    "for category in os.listdir(file_path):\n",
    "    category_path = os.path.join(file_path, category)  # Full path to the category folder\n",
    "    if not os.path.isdir(category_path):\n",
    "        continue  # Skip if it's not a directory\n",
    "\n",
    "    # Iterate through each image file in the category folder\n",
    "    for image_file in os.listdir(category_path):\n",
    "        full_image_path = os.path.join(category_path, image_file)  # Full path to the image file\n",
    "        image_paths.append(full_image_path)  # Add image path to list\n",
    "        category_labels.append(category)  # Add category label to list\n"
   ]
  },
  {
   "cell_type": "code",
   "execution_count": 3,
   "id": "bb0e9c5d",
   "metadata": {
    "execution": {
     "iopub.execute_input": "2024-01-26T05:54:01.478469Z",
     "iopub.status.busy": "2024-01-26T05:54:01.478176Z",
     "iopub.status.idle": "2024-01-26T05:54:01.509619Z",
     "shell.execute_reply": "2024-01-26T05:54:01.508645Z"
    },
    "papermill": {
     "duration": 0.045632,
     "end_time": "2024-01-26T05:54:01.511930",
     "exception": false,
     "start_time": "2024-01-26T05:54:01.466298",
     "status": "completed"
    },
    "tags": []
   },
   "outputs": [
    {
     "data": {
      "text/html": [
       "<div>\n",
       "<style scoped>\n",
       "    .dataframe tbody tr th:only-of-type {\n",
       "        vertical-align: middle;\n",
       "    }\n",
       "\n",
       "    .dataframe tbody tr th {\n",
       "        vertical-align: top;\n",
       "    }\n",
       "\n",
       "    .dataframe thead th {\n",
       "        text-align: right;\n",
       "    }\n",
       "</style>\n",
       "<table border=\"1\" class=\"dataframe\">\n",
       "  <thead>\n",
       "    <tr style=\"text-align: right;\">\n",
       "      <th></th>\n",
       "      <th>image</th>\n",
       "      <th>label</th>\n",
       "    </tr>\n",
       "  </thead>\n",
       "  <tbody>\n",
       "    <tr>\n",
       "      <th>0</th>\n",
       "      <td>/kaggle/input/rice-image-dataset/Rice_Image_Da...</td>\n",
       "      <td>Karacadag</td>\n",
       "    </tr>\n",
       "    <tr>\n",
       "      <th>1</th>\n",
       "      <td>/kaggle/input/rice-image-dataset/Rice_Image_Da...</td>\n",
       "      <td>Karacadag</td>\n",
       "    </tr>\n",
       "    <tr>\n",
       "      <th>2</th>\n",
       "      <td>/kaggle/input/rice-image-dataset/Rice_Image_Da...</td>\n",
       "      <td>Karacadag</td>\n",
       "    </tr>\n",
       "    <tr>\n",
       "      <th>3</th>\n",
       "      <td>/kaggle/input/rice-image-dataset/Rice_Image_Da...</td>\n",
       "      <td>Karacadag</td>\n",
       "    </tr>\n",
       "    <tr>\n",
       "      <th>4</th>\n",
       "      <td>/kaggle/input/rice-image-dataset/Rice_Image_Da...</td>\n",
       "      <td>Karacadag</td>\n",
       "    </tr>\n",
       "  </tbody>\n",
       "</table>\n",
       "</div>"
      ],
      "text/plain": [
       "                                               image      label\n",
       "0  /kaggle/input/rice-image-dataset/Rice_Image_Da...  Karacadag\n",
       "1  /kaggle/input/rice-image-dataset/Rice_Image_Da...  Karacadag\n",
       "2  /kaggle/input/rice-image-dataset/Rice_Image_Da...  Karacadag\n",
       "3  /kaggle/input/rice-image-dataset/Rice_Image_Da...  Karacadag\n",
       "4  /kaggle/input/rice-image-dataset/Rice_Image_Da...  Karacadag"
      ]
     },
     "execution_count": 3,
     "metadata": {},
     "output_type": "execute_result"
    }
   ],
   "source": [
    "data = pd.DataFrame({'image':image_paths,'label':category_labels})\n",
    "data.head()\n"
   ]
  },
  {
   "cell_type": "markdown",
   "id": "26998dec",
   "metadata": {
    "papermill": {
     "duration": 0.01094,
     "end_time": "2024-01-26T05:54:01.534402",
     "exception": false,
     "start_time": "2024-01-26T05:54:01.523462",
     "status": "completed"
    },
    "tags": []
   },
   "source": [
    "Identifying the classes"
   ]
  },
  {
   "cell_type": "code",
   "execution_count": 4,
   "id": "d1c0621f",
   "metadata": {
    "execution": {
     "iopub.execute_input": "2024-01-26T05:54:01.557352Z",
     "iopub.status.busy": "2024-01-26T05:54:01.557040Z",
     "iopub.status.idle": "2024-01-26T05:54:01.571771Z",
     "shell.execute_reply": "2024-01-26T05:54:01.570942Z"
    },
    "papermill": {
     "duration": 0.028692,
     "end_time": "2024-01-26T05:54:01.573671",
     "exception": false,
     "start_time": "2024-01-26T05:54:01.544979",
     "status": "completed"
    },
    "tags": []
   },
   "outputs": [
    {
     "data": {
      "text/plain": [
       "['Karacadag', 'Basmati', 'Jasmine', 'Arborio', 'Ipsala']"
      ]
     },
     "execution_count": 4,
     "metadata": {},
     "output_type": "execute_result"
    }
   ],
   "source": [
    "class_names = data['label'].unique().tolist()\n",
    "class_names"
   ]
  },
  {
   "cell_type": "code",
   "execution_count": 5,
   "id": "d58f4b8a",
   "metadata": {
    "execution": {
     "iopub.execute_input": "2024-01-26T05:54:01.596372Z",
     "iopub.status.busy": "2024-01-26T05:54:01.596067Z",
     "iopub.status.idle": "2024-01-26T05:54:01.676251Z",
     "shell.execute_reply": "2024-01-26T05:54:01.675275Z"
    },
    "papermill": {
     "duration": 0.093967,
     "end_time": "2024-01-26T05:54:01.678396",
     "exception": false,
     "start_time": "2024-01-26T05:54:01.584429",
     "status": "completed"
    },
    "tags": []
   },
   "outputs": [
    {
     "data": {
      "text/html": [
       "<div>\n",
       "<style scoped>\n",
       "    .dataframe tbody tr th:only-of-type {\n",
       "        vertical-align: middle;\n",
       "    }\n",
       "\n",
       "    .dataframe tbody tr th {\n",
       "        vertical-align: top;\n",
       "    }\n",
       "\n",
       "    .dataframe thead th {\n",
       "        text-align: right;\n",
       "    }\n",
       "</style>\n",
       "<table border=\"1\" class=\"dataframe\">\n",
       "  <thead>\n",
       "    <tr style=\"text-align: right;\">\n",
       "      <th></th>\n",
       "      <th>image</th>\n",
       "      <th>label</th>\n",
       "    </tr>\n",
       "  </thead>\n",
       "  <tbody>\n",
       "    <tr>\n",
       "      <th>count</th>\n",
       "      <td>75000</td>\n",
       "      <td>75000</td>\n",
       "    </tr>\n",
       "    <tr>\n",
       "      <th>unique</th>\n",
       "      <td>75000</td>\n",
       "      <td>5</td>\n",
       "    </tr>\n",
       "    <tr>\n",
       "      <th>top</th>\n",
       "      <td>/kaggle/input/rice-image-dataset/Rice_Image_Da...</td>\n",
       "      <td>Karacadag</td>\n",
       "    </tr>\n",
       "    <tr>\n",
       "      <th>freq</th>\n",
       "      <td>1</td>\n",
       "      <td>15000</td>\n",
       "    </tr>\n",
       "  </tbody>\n",
       "</table>\n",
       "</div>"
      ],
      "text/plain": [
       "                                                    image      label\n",
       "count                                               75000      75000\n",
       "unique                                              75000          5\n",
       "top     /kaggle/input/rice-image-dataset/Rice_Image_Da...  Karacadag\n",
       "freq                                                    1      15000"
      ]
     },
     "execution_count": 5,
     "metadata": {},
     "output_type": "execute_result"
    }
   ],
   "source": [
    "data.describe()"
   ]
  },
  {
   "cell_type": "code",
   "execution_count": 6,
   "id": "3719bbd7",
   "metadata": {
    "execution": {
     "iopub.execute_input": "2024-01-26T05:54:01.704112Z",
     "iopub.status.busy": "2024-01-26T05:54:01.703484Z",
     "iopub.status.idle": "2024-01-26T05:54:01.720815Z",
     "shell.execute_reply": "2024-01-26T05:54:01.719978Z"
    },
    "papermill": {
     "duration": 0.032529,
     "end_time": "2024-01-26T05:54:01.722850",
     "exception": false,
     "start_time": "2024-01-26T05:54:01.690321",
     "status": "completed"
    },
    "tags": []
   },
   "outputs": [
    {
     "data": {
      "text/html": [
       "<div>\n",
       "<style scoped>\n",
       "    .dataframe tbody tr th:only-of-type {\n",
       "        vertical-align: middle;\n",
       "    }\n",
       "\n",
       "    .dataframe tbody tr th {\n",
       "        vertical-align: top;\n",
       "    }\n",
       "\n",
       "    .dataframe thead th {\n",
       "        text-align: right;\n",
       "    }\n",
       "</style>\n",
       "<table border=\"1\" class=\"dataframe\">\n",
       "  <thead>\n",
       "    <tr style=\"text-align: right;\">\n",
       "      <th></th>\n",
       "      <th>label</th>\n",
       "      <th>count</th>\n",
       "    </tr>\n",
       "  </thead>\n",
       "  <tbody>\n",
       "    <tr>\n",
       "      <th>0</th>\n",
       "      <td>Karacadag</td>\n",
       "      <td>15000</td>\n",
       "    </tr>\n",
       "    <tr>\n",
       "      <th>1</th>\n",
       "      <td>Basmati</td>\n",
       "      <td>15000</td>\n",
       "    </tr>\n",
       "    <tr>\n",
       "      <th>2</th>\n",
       "      <td>Jasmine</td>\n",
       "      <td>15000</td>\n",
       "    </tr>\n",
       "    <tr>\n",
       "      <th>3</th>\n",
       "      <td>Arborio</td>\n",
       "      <td>15000</td>\n",
       "    </tr>\n",
       "    <tr>\n",
       "      <th>4</th>\n",
       "      <td>Ipsala</td>\n",
       "      <td>15000</td>\n",
       "    </tr>\n",
       "  </tbody>\n",
       "</table>\n",
       "</div>"
      ],
      "text/plain": [
       "       label  count\n",
       "0  Karacadag  15000\n",
       "1    Basmati  15000\n",
       "2    Jasmine  15000\n",
       "3    Arborio  15000\n",
       "4     Ipsala  15000"
      ]
     },
     "execution_count": 6,
     "metadata": {},
     "output_type": "execute_result"
    }
   ],
   "source": [
    "df_label=data['label'].value_counts().to_frame().reset_index()\n",
    "df_label"
   ]
  },
  {
   "cell_type": "markdown",
   "id": "ae8917e3",
   "metadata": {
    "papermill": {
     "duration": 0.011089,
     "end_time": "2024-01-26T05:54:01.746078",
     "exception": false,
     "start_time": "2024-01-26T05:54:01.734989",
     "status": "completed"
    },
    "tags": []
   },
   "source": [
    "The data seems to be evenly distributed.\n",
    "Taking a look at the different classes"
   ]
  },
  {
   "cell_type": "code",
   "execution_count": 7,
   "id": "5a8f77a9",
   "metadata": {
    "execution": {
     "iopub.execute_input": "2024-01-26T05:54:01.815403Z",
     "iopub.status.busy": "2024-01-26T05:54:01.815001Z",
     "iopub.status.idle": "2024-01-26T05:54:03.673084Z",
     "shell.execute_reply": "2024-01-26T05:54:03.672183Z"
    },
    "papermill": {
     "duration": 1.919094,
     "end_time": "2024-01-26T05:54:03.676325",
     "exception": false,
     "start_time": "2024-01-26T05:54:01.757231",
     "status": "completed"
    },
    "tags": []
   },
   "outputs": [
    {
     "data": {
      "image/png": "[encoded data removed]",
      "text/plain": [
       "<Figure size 1000x1100 with 25 Axes>"
      ]
     },
     "metadata": {},
     "output_type": "display_data"
    }
   ],
   "source": [
    "grouped_data=data.groupby('label')\n",
    "plt.figure(figsize=(10,11))\n",
    "\n",
    "# Initialize a subplot index\n",
    "subplot_idx = 1\n",
    "\n",
    "# Loop through each group (label)\n",
    "for label, group in grouped_data:\n",
    "    # Get 5 images from each group\n",
    "    sample_images = group.sample(n=5, random_state=1)  # Change random_state for different samples\n",
    "\n",
    "    # Loop through the sample images\n",
    "    for _, row in sample_images.iterrows():\n",
    "        img = cv2.imread(row['image'])  # Read the image\n",
    "        img = cv2.cvtColor(img, cv2.COLOR_BGR2RGB)  # Convert BGR to RGB\n",
    "        plt.subplot(len(grouped_data), 5, subplot_idx)\n",
    "        plt.imshow(img)\n",
    "        plt.axis('off')\n",
    "        plt.title(label, fontsize=10)\n",
    "        subplot_idx += 1\n",
    "\n",
    "plt.show()"
   ]
  },
  {
   "cell_type": "markdown",
   "id": "b769682c",
   "metadata": {
    "papermill": {
     "duration": 0.013793,
     "end_time": "2024-01-26T05:54:03.703788",
     "exception": false,
     "start_time": "2024-01-26T05:54:03.689995",
     "status": "completed"
    },
    "tags": []
   },
   "source": [
    "## Spliting the data to feed into the models"
   ]
  },
  {
   "cell_type": "code",
   "execution_count": 8,
   "id": "ebb700fc",
   "metadata": {
    "execution": {
     "iopub.execute_input": "2024-01-26T05:54:03.732194Z",
     "iopub.status.busy": "2024-01-26T05:54:03.731612Z",
     "iopub.status.idle": "2024-01-26T05:54:03.749452Z",
     "shell.execute_reply": "2024-01-26T05:54:03.748698Z"
    },
    "papermill": {
     "duration": 0.034281,
     "end_time": "2024-01-26T05:54:03.751475",
     "exception": false,
     "start_time": "2024-01-26T05:54:03.717194",
     "status": "completed"
    },
    "tags": []
   },
   "outputs": [],
   "source": [
    "x = data['image']\n",
    "y = data['label']\n",
    "x_train,x_test1,y_train,y_test1 = train_test_split(x,y,test_size=0.2,shuffle=True,random_state=145)\n",
    "x_val, x_test, y_val, y_test  = train_test_split(x_test1,y_test1,test_size=0.5,shuffle=True,random_state=145)"
   ]
  },
  {
   "cell_type": "code",
   "execution_count": 9,
   "id": "69469ac8",
   "metadata": {
    "execution": {
     "iopub.execute_input": "2024-01-26T05:54:03.779975Z",
     "iopub.status.busy": "2024-01-26T05:54:03.779420Z",
     "iopub.status.idle": "2024-01-26T05:54:03.784805Z",
     "shell.execute_reply": "2024-01-26T05:54:03.783935Z"
    },
    "papermill": {
     "duration": 0.02193,
     "end_time": "2024-01-26T05:54:03.786761",
     "exception": false,
     "start_time": "2024-01-26T05:54:03.764831",
     "status": "completed"
    },
    "tags": []
   },
   "outputs": [
    {
     "name": "stdout",
     "output_type": "stream",
     "text": [
      "The shape of x_train:(60000,)\n",
      "The shape of x_test:(7500,)\n",
      "The shape of x_val:(7500,)\n",
      "The shape of y_train:(60000,)\n",
      "The shape of y_test:(7500,)\n",
      "The shape of y_val:(7500,)\n"
     ]
    }
   ],
   "source": [
    "print(f'The shape of x_train:{x_train.shape}')\n",
    "print(f'The shape of x_test:{x_test.shape}')\n",
    "print(f'The shape of x_val:{x_val.shape}')\n",
    "print(f'The shape of y_train:{y_train.shape}')\n",
    "print(f'The shape of y_test:{y_test.shape}')\n",
    "print(f'The shape of y_val:{y_val.shape}')"
   ]
  },
  {
   "cell_type": "code",
   "execution_count": 10,
   "id": "ac365653",
   "metadata": {
    "execution": {
     "iopub.execute_input": "2024-01-26T05:54:03.815222Z",
     "iopub.status.busy": "2024-01-26T05:54:03.814703Z",
     "iopub.status.idle": "2024-01-26T05:54:03.826284Z",
     "shell.execute_reply": "2024-01-26T05:54:03.825356Z"
    },
    "papermill": {
     "duration": 0.028007,
     "end_time": "2024-01-26T05:54:03.828216",
     "exception": false,
     "start_time": "2024-01-26T05:54:03.800209",
     "status": "completed"
    },
    "tags": []
   },
   "outputs": [
    {
     "name": "stdout",
     "output_type": "stream",
     "text": [
      "The shape of train_df:(60000, 2)\n",
      "The shape of test_df:(7500, 2)\n",
      "The shape of validation_df:(7500, 2)\n"
     ]
    }
   ],
   "source": [
    "train_df = pd.DataFrame({'image':x_train,'label':y_train})\n",
    "test_df = pd.DataFrame({'image':x_test,'label':y_test})\n",
    "validation_df = pd.DataFrame({'image':x_val,'label':y_val})\n",
    "\n",
    "print(f'The shape of train_df:{train_df.shape}')\n",
    "print(f'The shape of test_df:{test_df.shape}')\n",
    "print(f'The shape of validation_df:{validation_df.shape}')"
   ]
  },
  {
   "cell_type": "code",
   "execution_count": 11,
   "id": "d0a82167",
   "metadata": {
    "execution": {
     "iopub.execute_input": "2024-01-26T05:54:03.857830Z",
     "iopub.status.busy": "2024-01-26T05:54:03.857491Z",
     "iopub.status.idle": "2024-01-26T05:54:03.880093Z",
     "shell.execute_reply": "2024-01-26T05:54:03.879263Z"
    },
    "papermill": {
     "duration": 0.040061,
     "end_time": "2024-01-26T05:54:03.882098",
     "exception": false,
     "start_time": "2024-01-26T05:54:03.842037",
     "status": "completed"
    },
    "tags": []
   },
   "outputs": [],
   "source": [
    "label = LabelEncoder()\n",
    "\n",
    "y_train = label.fit_transform(y_train)\n",
    "y_test = label.transform(y_test)\n",
    "y_val = label.transform(y_val)"
   ]
  },
  {
   "cell_type": "code",
   "execution_count": 12,
   "id": "a053055c",
   "metadata": {
    "execution": {
     "iopub.execute_input": "2024-01-26T05:54:03.911342Z",
     "iopub.status.busy": "2024-01-26T05:54:03.911043Z",
     "iopub.status.idle": "2024-01-26T05:54:03.915168Z",
     "shell.execute_reply": "2024-01-26T05:54:03.914291Z"
    },
    "papermill": {
     "duration": 0.02086,
     "end_time": "2024-01-26T05:54:03.916967",
     "exception": false,
     "start_time": "2024-01-26T05:54:03.896107",
     "status": "completed"
    },
    "tags": []
   },
   "outputs": [],
   "source": [
    "Image_size = 60\n",
    "input_shape = (60,60,3)\n",
    "Batch_size=32"
   ]
  },
  {
   "cell_type": "markdown",
   "id": "a6f33bc0",
   "metadata": {
    "papermill": {
     "duration": 0.01327,
     "end_time": "2024-01-26T05:54:03.943913",
     "exception": false,
     "start_time": "2024-01-26T05:54:03.930643",
     "status": "completed"
    },
    "tags": []
   },
   "source": [
    "## Data Augmentation"
   ]
  },
  {
   "cell_type": "code",
   "execution_count": 13,
   "id": "c366b84f",
   "metadata": {
    "execution": {
     "iopub.execute_input": "2024-01-26T05:54:03.974712Z",
     "iopub.status.busy": "2024-01-26T05:54:03.973998Z",
     "iopub.status.idle": "2024-01-26T05:54:03.979098Z",
     "shell.execute_reply": "2024-01-26T05:54:03.978003Z"
    },
    "papermill": {
     "duration": 0.023499,
     "end_time": "2024-01-26T05:54:03.981088",
     "exception": false,
     "start_time": "2024-01-26T05:54:03.957589",
     "status": "completed"
    },
    "tags": []
   },
   "outputs": [],
   "source": [
    "img_gen = ImageDataGenerator(\n",
    "    rescale=1./255,\n",
    "    horizontal_flip=True,\n",
    "    rotation_range=90,  \n",
    "    width_shift_range=0.2,  \n",
    "    height_shift_range=0.2,  \n",
    "    shear_range=0.15,  \n",
    "    zoom_range=0.15  \n",
    ")\n"
   ]
  },
  {
   "cell_type": "markdown",
   "id": "4a5fef56",
   "metadata": {
    "papermill": {
     "duration": 0.013927,
     "end_time": "2024-01-26T05:54:04.010258",
     "exception": false,
     "start_time": "2024-01-26T05:54:03.996331",
     "status": "completed"
    },
    "tags": []
   },
   "source": [
    "Creating the training, testing and validation generator"
   ]
  },
  {
   "cell_type": "code",
   "execution_count": 14,
   "id": "70da2434",
   "metadata": {
    "execution": {
     "iopub.execute_input": "2024-01-26T05:54:04.040195Z",
     "iopub.status.busy": "2024-01-26T05:54:04.039331Z",
     "iopub.status.idle": "2024-01-26T05:58:08.617769Z",
     "shell.execute_reply": "2024-01-26T05:58:08.616865Z"
    },
    "papermill": {
     "duration": 244.603998,
     "end_time": "2024-01-26T05:58:08.628603",
     "exception": false,
     "start_time": "2024-01-26T05:54:04.024605",
     "status": "completed"
    },
    "tags": []
   },
   "outputs": [
    {
     "name": "stdout",
     "output_type": "stream",
     "text": [
      "Found 60000 validated image filenames belonging to 5 classes.\n",
      "Found 7500 validated image filenames belonging to 5 classes.\n",
      "Found 7500 validated image filenames belonging to 5 classes.\n"
     ]
    }
   ],
   "source": [
    "train_gen = img_gen.flow_from_dataframe(train_df,x_col='image',y_col='label',\n",
    "                                        target_size=(Image_size,Image_size),\n",
    "                                       batch_size=Batch_size,shuffle=True,class_mode='categorical')\n",
    "\n",
    "test_gen = img_gen.flow_from_dataframe(test_df,x_col='image',y_col='label',\n",
    "                                        target_size=(Image_size,Image_size),\n",
    "                                       batch_size=Batch_size,shuffle=False,class_mode='categorical')\n",
    "\n",
    "val_gen = img_gen.flow_from_dataframe(validation_df,x_col='image',y_col='label',\n",
    "                                        target_size=(Image_size,Image_size),\n",
    "                                       batch_size=Batch_size,shuffle=True,class_mode='categorical')"
   ]
  },
  {
   "cell_type": "markdown",
   "id": "cd78b758",
   "metadata": {
    "papermill": {
     "duration": 0.013884,
     "end_time": "2024-01-26T05:58:08.660264",
     "exception": false,
     "start_time": "2024-01-26T05:58:08.646380",
     "status": "completed"
    },
    "tags": []
   },
   "source": [
    "## Model 1: VGG16 "
   ]
  },
  {
   "cell_type": "code",
   "execution_count": 15,
   "id": "2ce251eb",
   "metadata": {
    "execution": {
     "iopub.execute_input": "2024-01-26T05:58:08.690319Z",
     "iopub.status.busy": "2024-01-26T05:58:08.689964Z",
     "iopub.status.idle": "2024-01-26T05:58:10.530468Z",
     "shell.execute_reply": "2024-01-26T05:58:10.529395Z"
    },
    "papermill": {
     "duration": 1.861665,
     "end_time": "2024-01-26T05:58:10.536030",
     "exception": false,
     "start_time": "2024-01-26T05:58:08.674365",
     "status": "completed"
    },
    "tags": []
   },
   "outputs": [
    {
     "name": "stdout",
     "output_type": "stream",
     "text": [
      "Downloading data from https://storage.googleapis.com/tensorflow/keras-applications/vgg16/vgg16_weights_tf_dim_ordering_tf_kernels_notop.h5\n",
      "58889256/58889256 [==============================] - 0s 0us/step\n",
      "Model: \"model\"\n",
      "_________________________________________________________________\n",
      " Layer (type)                Output Shape              Param #   \n",
      "=================================================================\n",
      " input_2 (InputLayer)        [(None, 60, 60, 3)]       0         \n",
      "                                                                 \n",
      " vgg16 (Functional)          (None, 1, 1, 512)         14714688  \n",
      "                                                                 \n",
      " flatten (Flatten)           (None, 512)               0         \n",
      "                                                                 \n",
      " dense (Dense)               (None, 1024)              525312    \n",
      "                                                                 \n",
      " dropout (Dropout)           (None, 1024)              0         \n",
      "                                                                 \n",
      " dense_1 (Dense)             (None, 5)                 5125      \n",
      "                                                                 \n",
      "=================================================================\n",
      "Total params: 15245125 (58.16 MB)\n",
      "Trainable params: 530437 (2.02 MB)\n",
      "Non-trainable params: 14714688 (56.13 MB)\n",
      "_________________________________________________________________\n"
     ]
    }
   ],
   "source": [
    "model_VGG16 =tf.keras.applications.VGG16(\n",
    "    include_top=False,\n",
    "    input_shape=(60,60,3),\n",
    "    weights='imagenet'\n",
    ")\n",
    "model_VGG16.trainable = False\n",
    "input_layer = tf.keras.layers.Input(shape=(60,60,3))\n",
    "x = model_VGG16(input_layer,training=False)\n",
    "x = tf.keras.layers.Flatten()(x)\n",
    "x = tf.keras.layers.Dense(1024,activation='relu')(x)\n",
    "x = tf.keras.layers.Dropout(0.15)(x)\n",
    "output = tf.keras.layers.Dense(5,activation='softmax')(x)\n",
    "\n",
    "model_VGG16 = tf.keras.Model(inputs=[input_layer],outputs=[output])\n",
    "model_VGG16.summary()"
   ]
  },
  {
   "cell_type": "code",
   "execution_count": 16,
   "id": "20249f0b",
   "metadata": {
    "execution": {
     "iopub.execute_input": "2024-01-26T05:58:10.570346Z",
     "iopub.status.busy": "2024-01-26T05:58:10.569683Z",
     "iopub.status.idle": "2024-01-26T05:58:10.589001Z",
     "shell.execute_reply": "2024-01-26T05:58:10.588106Z"
    },
    "papermill": {
     "duration": 0.038559,
     "end_time": "2024-01-26T05:58:10.591006",
     "exception": false,
     "start_time": "2024-01-26T05:58:10.552447",
     "status": "completed"
    },
    "tags": []
   },
   "outputs": [],
   "source": [
    "earlystop= EarlyStopping(patience=4)\n",
    "reduce_lr= ReduceLROnPlateau(monitor=\"val_accuracy\",\n",
    "                            patience=2,\n",
    "                            factor=0.5, min_lr=0.00001)\n",
    "callbacks= [earlystop, reduce_lr]\n",
    "model_VGG16.compile(optimizer ='adam', loss='categorical_crossentropy', metrics=['accuracy'])"
   ]
  },
  {
   "cell_type": "code",
   "execution_count": 17,
   "id": "1a14a482",
   "metadata": {
    "execution": {
     "iopub.execute_input": "2024-01-26T05:58:10.625697Z",
     "iopub.status.busy": "2024-01-26T05:58:10.625067Z",
     "iopub.status.idle": "2024-01-26T06:31:04.979988Z",
     "shell.execute_reply": "2024-01-26T06:31:04.978957Z"
    },
    "papermill": {
     "duration": 1975.923485,
     "end_time": "2024-01-26T06:31:06.530670",
     "exception": false,
     "start_time": "2024-01-26T05:58:10.607185",
     "status": "completed"
    },
    "tags": []
   },
   "outputs": [
    {
     "name": "stderr",
     "output_type": "stream",
     "text": [
      "/tmp/ipykernel_26/2706322897.py:1: UserWarning: `Model.fit_generator` is deprecated and will be removed in a future version. Please use `Model.fit`, which supports generators.\n",
      "  history_modelVGG16 = model_VGG16.fit_generator(train_gen,epochs=10,validation_data=val_gen,callbacks=callbacks)\n"
     ]
    },
    {
     "name": "stdout",
     "output_type": "stream",
     "text": [
      "Epoch 1/10\n",
      "1875/1875 [==============================] - 490s 259ms/step - loss: 0.2919 - accuracy: 0.8858 - val_loss: 0.2259 - val_accuracy: 0.9191 - lr: 0.0010\n",
      "Epoch 2/10\n",
      "1875/1875 [==============================] - 162s 86ms/step - loss: 0.2171 - accuracy: 0.9163 - val_loss: 0.2122 - val_accuracy: 0.9227 - lr: 0.0010\n",
      "Epoch 3/10\n",
      "1875/1875 [==============================] - 157s 84ms/step - loss: 0.1970 - accuracy: 0.9255 - val_loss: 0.2297 - val_accuracy: 0.9239 - lr: 0.0010\n",
      "Epoch 4/10\n",
      "1875/1875 [==============================] - 159s 85ms/step - loss: 0.1813 - accuracy: 0.9307 - val_loss: 0.2119 - val_accuracy: 0.9323 - lr: 0.0010\n",
      "Epoch 5/10\n",
      "1875/1875 [==============================] - 165s 88ms/step - loss: 0.1785 - accuracy: 0.9317 - val_loss: 0.1976 - val_accuracy: 0.9375 - lr: 0.0010\n",
      "Epoch 6/10\n",
      "1875/1875 [==============================] - 159s 85ms/step - loss: 0.1699 - accuracy: 0.9352 - val_loss: 0.1695 - val_accuracy: 0.9400 - lr: 0.0010\n",
      "Epoch 7/10\n",
      "1875/1875 [==============================] - 156s 83ms/step - loss: 0.1654 - accuracy: 0.9373 - val_loss: 0.2058 - val_accuracy: 0.9375 - lr: 0.0010\n",
      "Epoch 8/10\n",
      "1875/1875 [==============================] - 158s 84ms/step - loss: 0.1592 - accuracy: 0.9408 - val_loss: 0.1770 - val_accuracy: 0.9389 - lr: 0.0010\n",
      "Epoch 9/10\n",
      "1875/1875 [==============================] - 162s 86ms/step - loss: 0.1429 - accuracy: 0.9459 - val_loss: 0.1678 - val_accuracy: 0.9504 - lr: 5.0000e-04\n",
      "Epoch 10/10\n",
      "1875/1875 [==============================] - 163s 87ms/step - loss: 0.1412 - accuracy: 0.9472 - val_loss: 0.1919 - val_accuracy: 0.9471 - lr: 5.0000e-04\n"
     ]
    }
   ],
   "source": [
    "history_modelVGG16 = model_VGG16.fit_generator(train_gen,epochs=10,validation_data=val_gen,callbacks=callbacks)"
   ]
  },
  {
   "cell_type": "markdown",
   "id": "f796bfbf",
   "metadata": {
    "papermill": {
     "duration": 1.557713,
     "end_time": "2024-01-26T06:31:09.644344",
     "exception": false,
     "start_time": "2024-01-26T06:31:08.086631",
     "status": "completed"
    },
    "tags": []
   },
   "source": [
    "## Model2 : MobileNetV2"
   ]
  },
  {
   "cell_type": "code",
   "execution_count": 18,
   "id": "17a04224",
   "metadata": {
    "execution": {
     "iopub.execute_input": "2024-01-26T06:31:12.738439Z",
     "iopub.status.busy": "2024-01-26T06:31:12.738054Z",
     "iopub.status.idle": "2024-01-26T06:31:14.719977Z",
     "shell.execute_reply": "2024-01-26T06:31:14.719029Z"
    },
    "papermill": {
     "duration": 3.563842,
     "end_time": "2024-01-26T06:31:14.721874",
     "exception": false,
     "start_time": "2024-01-26T06:31:11.158032",
     "status": "completed"
    },
    "tags": []
   },
   "outputs": [
    {
     "name": "stdout",
     "output_type": "stream",
     "text": [
      "Downloading data from https://storage.googleapis.com/tensorflow/keras-applications/mobilenet_v2/mobilenet_v2_weights_tf_dim_ordering_tf_kernels_1.0_224_no_top.h5\n",
      "9406464/9406464 [==============================] - 0s 0us/step\n",
      "Model: \"model_1\"\n",
      "_________________________________________________________________\n",
      " Layer (type)                Output Shape              Param #   \n",
      "=================================================================\n",
      " input_4 (InputLayer)        [(None, 60, 60, 3)]       0         \n",
      "                                                                 \n",
      " mobilenetv2_1.00_224 (Func  (None, 2, 2, 1280)        2257984   \n",
      " tional)                                                         \n",
      "                                                                 \n",
      " flatten_1 (Flatten)         (None, 5120)              0         \n",
      "                                                                 \n",
      " dense_2 (Dense)             (None, 1024)              5243904   \n",
      "                                                                 \n",
      " dropout_1 (Dropout)         (None, 1024)              0         \n",
      "                                                                 \n",
      " dense_3 (Dense)             (None, 5)                 5125      \n",
      "                                                                 \n",
      "=================================================================\n",
      "Total params: 7507013 (28.64 MB)\n",
      "Trainable params: 5249029 (20.02 MB)\n",
      "Non-trainable params: 2257984 (8.61 MB)\n",
      "_________________________________________________________________\n"
     ]
    }
   ],
   "source": [
    "model_MobileNetV2 =tf.keras.applications.MobileNetV2(\n",
    "    include_top=False,\n",
    "    input_shape=(60,60,3),\n",
    "    weights='imagenet'\n",
    ")\n",
    "model_MobileNetV2.trainable = False\n",
    "input_layer = tf.keras.layers.Input(shape=(60,60,3))\n",
    "x = model_MobileNetV2(input_layer,training=False)\n",
    "x = tf.keras.layers.Flatten()(x)\n",
    "x = tf.keras.layers.Dense(1024,activation='relu')(x)\n",
    "x = tf.keras.layers.Dropout(0.3)(x)\n",
    "output = tf.keras.layers.Dense(5,activation='softmax')(x)\n",
    "\n",
    "model_MobileNetV2 = tf.keras.Model(inputs=[input_layer],outputs=[output])\n",
    "model_MobileNetV2.summary()"
   ]
  },
  {
   "cell_type": "code",
   "execution_count": 19,
   "id": "94266d3f",
   "metadata": {
    "execution": {
     "iopub.execute_input": "2024-01-26T06:31:17.777735Z",
     "iopub.status.busy": "2024-01-26T06:31:17.777224Z",
     "iopub.status.idle": "2024-01-26T06:31:17.792635Z",
     "shell.execute_reply": "2024-01-26T06:31:17.791956Z"
    },
    "papermill": {
     "duration": 1.574166,
     "end_time": "2024-01-26T06:31:17.794452",
     "exception": false,
     "start_time": "2024-01-26T06:31:16.220286",
     "status": "completed"
    },
    "tags": []
   },
   "outputs": [],
   "source": [
    "earlystop = EarlyStopping(patience=3)\n",
    "reduce_learning_rate = ReduceLROnPlateau(monitor=\"val_accuracy\",\n",
    "                                         patience=2, verbose=1,\n",
    "                                         factor=0.5,  min_lr=0.00001)\n",
    "\n",
    "callbacks = [earlystop,reduce_learning_rate]\n",
    "model_MobileNetV2.compile(optimizer ='adam', loss='categorical_crossentropy', metrics=['accuracy'])"
   ]
  },
  {
   "cell_type": "code",
   "execution_count": 20,
   "id": "50bbbd8e",
   "metadata": {
    "execution": {
     "iopub.execute_input": "2024-01-26T06:31:20.949126Z",
     "iopub.status.busy": "2024-01-26T06:31:20.948763Z",
     "iopub.status.idle": "2024-01-26T06:58:02.278375Z",
     "shell.execute_reply": "2024-01-26T06:58:02.277568Z"
    },
    "papermill": {
     "duration": 1602.909349,
     "end_time": "2024-01-26T06:58:02.280421",
     "exception": false,
     "start_time": "2024-01-26T06:31:19.371072",
     "status": "completed"
    },
    "tags": []
   },
   "outputs": [
    {
     "name": "stdout",
     "output_type": "stream",
     "text": [
      "Epoch 1/10\n"
     ]
    },
    {
     "name": "stderr",
     "output_type": "stream",
     "text": [
      "/tmp/ipykernel_26/4171033150.py:1: UserWarning: `Model.fit_generator` is deprecated and will be removed in a future version. Please use `Model.fit`, which supports generators.\n",
      "  history_MobileNetV2 = model_MobileNetV2.fit_generator(train_gen,epochs=10,validation_data=val_gen,callbacks=callbacks)\n"
     ]
    },
    {
     "name": "stdout",
     "output_type": "stream",
     "text": [
      "1875/1875 [==============================] - 167s 87ms/step - loss: 0.3157 - accuracy: 0.8840 - val_loss: 0.2656 - val_accuracy: 0.9000 - lr: 0.0010\n",
      "Epoch 2/10\n",
      "1875/1875 [==============================] - 165s 88ms/step - loss: 0.2498 - accuracy: 0.9060 - val_loss: 0.2353 - val_accuracy: 0.9116 - lr: 0.0010\n",
      "Epoch 3/10\n",
      "1875/1875 [==============================] - 162s 87ms/step - loss: 0.2411 - accuracy: 0.9096 - val_loss: 0.2068 - val_accuracy: 0.9241 - lr: 0.0010\n",
      "Epoch 4/10\n",
      "1875/1875 [==============================] - 160s 85ms/step - loss: 0.2276 - accuracy: 0.9150 - val_loss: 0.2134 - val_accuracy: 0.9239 - lr: 0.0010\n",
      "Epoch 5/10\n",
      "1875/1875 [==============================] - 161s 86ms/step - loss: 0.2294 - accuracy: 0.9136 - val_loss: 0.2073 - val_accuracy: 0.9259 - lr: 0.0010\n",
      "Epoch 6/10\n",
      "1875/1875 [==============================] - 155s 83ms/step - loss: 0.2197 - accuracy: 0.9186 - val_loss: 0.1877 - val_accuracy: 0.9292 - lr: 0.0010\n",
      "Epoch 7/10\n",
      "1875/1875 [==============================] - 157s 84ms/step - loss: 0.2154 - accuracy: 0.9196 - val_loss: 0.1807 - val_accuracy: 0.9301 - lr: 0.0010\n",
      "Epoch 8/10\n",
      "1875/1875 [==============================] - 156s 83ms/step - loss: 0.2103 - accuracy: 0.9236 - val_loss: 0.1890 - val_accuracy: 0.9296 - lr: 0.0010\n",
      "Epoch 9/10\n",
      "1875/1875 [==============================] - 160s 86ms/step - loss: 0.2130 - accuracy: 0.9230 - val_loss: 0.1750 - val_accuracy: 0.9308 - lr: 0.0010\n",
      "Epoch 10/10\n",
      "1875/1875 [==============================] - 157s 84ms/step - loss: 0.2068 - accuracy: 0.9249 - val_loss: 0.1784 - val_accuracy: 0.9323 - lr: 0.0010\n"
     ]
    }
   ],
   "source": [
    "history_MobileNetV2 = model_MobileNetV2.fit_generator(train_gen,epochs=10,validation_data=val_gen,callbacks=callbacks)"
   ]
  },
  {
   "cell_type": "markdown",
   "id": "a7463091",
   "metadata": {
    "papermill": {
     "duration": 3.080766,
     "end_time": "2024-01-26T06:58:08.458367",
     "exception": false,
     "start_time": "2024-01-26T06:58:05.377601",
     "status": "completed"
    },
    "tags": []
   },
   "source": [
    "## Evaluation of the two models"
   ]
  },
  {
   "cell_type": "code",
   "execution_count": 21,
   "id": "139fbbe2",
   "metadata": {
    "execution": {
     "iopub.execute_input": "2024-01-26T06:58:14.650209Z",
     "iopub.status.busy": "2024-01-26T06:58:14.649842Z",
     "iopub.status.idle": "2024-01-26T06:58:14.963905Z",
     "shell.execute_reply": "2024-01-26T06:58:14.963027Z"
    },
    "papermill": {
     "duration": 3.401549,
     "end_time": "2024-01-26T06:58:14.965937",
     "exception": false,
     "start_time": "2024-01-26T06:58:11.564388",
     "status": "completed"
    },
    "tags": []
   },
   "outputs": [
    {
     "data": {
      "image/png": "[encoded data removed]",
      "text/plain": [
       "<Figure size 640x480 with 1 Axes>"
      ]
     },
     "metadata": {},
     "output_type": "display_data"
    }
   ],
   "source": [
    "import matplotlib.pyplot as plt\n",
    "\n",
    "# Extracting accuracy and validation accuracy of the VGG16 model\n",
    "acc_vgg16 = history_modelVGG16.history['accuracy']\n",
    "val_acc_vgg16 = history_modelVGG16.history['val_accuracy']\n",
    "\n",
    "# Extracting accuracy and validation accuracy of the MobileNetV2 model\n",
    "acc_mobilenetv2 = history_MobileNetV2.history['accuracy']\n",
    "val_acc_mobilenetv2 = history_MobileNetV2.history['val_accuracy']\n",
    "\n",
    "# Epochs for each model\n",
    "epochs_vgg16 = range(1, len(acc_vgg16) + 1)  # VGG16 epochs\n",
    "epochs_mobilenetv2 = range(1, len(acc_mobilenetv2) + 1)  # MobileNetV2 epochs\n",
    "\n",
    "# Plotting training and validation accuracy for VGG16\n",
    "plt.plot(epochs_vgg16, acc_vgg16, 'b-', label='Training Accuracy (VGG16)')\n",
    "plt.plot(epochs_vgg16, val_acc_vgg16, 'b--', label='Validation Accuracy (VGG16)')\n",
    "\n",
    "# Plotting training and validation accuracy for MobileNetV2\n",
    "plt.plot(epochs_mobilenetv2, acc_mobilenetv2, 'r-', label='Training Accuracy (MobileNetV2)')\n",
    "plt.plot(epochs_mobilenetv2, val_acc_mobilenetv2, 'r--', label='Validation Accuracy (MobileNetV2)')\n",
    "\n",
    "plt.title('Training and Validation Accuracy for VGG16 and MobileNetV2')\n",
    "plt.xlabel('Epochs')\n",
    "plt.ylabel('Accuracy')\n",
    "plt.legend()\n",
    "\n",
    "plt.show()\n"
   ]
  },
  {
   "cell_type": "markdown",
   "id": "4bcf2177",
   "metadata": {
    "papermill": {
     "duration": 3.160267,
     "end_time": "2024-01-26T06:58:21.240995",
     "exception": false,
     "start_time": "2024-01-26T06:58:18.080728",
     "status": "completed"
    },
    "tags": []
   },
   "source": [
    "For VGG16, the validation loss decreases and is generally lower than the training loss after the initial epoch, which is a good indicator of the model generalizing well. However, the validation loss shows slight increases at epochs 4, 6, and 7, suggesting minor fluctuations in model performance on the validation set. For MobileNetV2, the validation loss consistently decreases across epochs, indicating steady improvement in model generalization. Despite a slight increase at epoch 10.\n",
    "\n",
    "MobileNetV2's validation loss at its final epoch is lower than VGG16's, suggesting it may be generalizing slightly better by the end of training. Both models exhibit a typical convergence pattern, with the validation loss tracking closely with the training loss, which suggests that neither model is significantly overfitting. \n",
    "\n",
    "Overall, while both models learn effectively, MobileNetV2 shows a more consistent improvement in validation loss,which may indicate a more stable learning process over the epochs. This model can benefir more if the model is run for more number of epochs."
   ]
  },
  {
   "cell_type": "markdown",
   "id": "93c4d85c",
   "metadata": {
    "papermill": {
     "duration": 3.056125,
     "end_time": "2024-01-26T06:58:27.385290",
     "exception": false,
     "start_time": "2024-01-26T06:58:24.329165",
     "status": "completed"
    },
    "tags": []
   },
   "source": [
    "## Prediction VGG16"
   ]
  },
  {
   "cell_type": "code",
   "execution_count": 22,
   "id": "18175a38",
   "metadata": {
    "execution": {
     "iopub.execute_input": "2024-01-26T06:58:33.674768Z",
     "iopub.status.busy": "2024-01-26T06:58:33.674393Z",
     "iopub.status.idle": "2024-01-26T06:59:48.910933Z",
     "shell.execute_reply": "2024-01-26T06:59:48.910028Z"
    },
    "papermill": {
     "duration": 78.341018,
     "end_time": "2024-01-26T06:59:48.912965",
     "exception": false,
     "start_time": "2024-01-26T06:58:30.571947",
     "status": "completed"
    },
    "tags": []
   },
   "outputs": [
    {
     "name": "stdout",
     "output_type": "stream",
     "text": [
      "235/235 [==============================] - 75s 318ms/step\n"
     ]
    },
    {
     "data": {
      "text/html": [
       "<div>\n",
       "<style scoped>\n",
       "    .dataframe tbody tr th:only-of-type {\n",
       "        vertical-align: middle;\n",
       "    }\n",
       "\n",
       "    .dataframe tbody tr th {\n",
       "        vertical-align: top;\n",
       "    }\n",
       "\n",
       "    .dataframe thead th {\n",
       "        text-align: right;\n",
       "    }\n",
       "</style>\n",
       "<table border=\"1\" class=\"dataframe\">\n",
       "  <thead>\n",
       "    <tr style=\"text-align: right;\">\n",
       "      <th></th>\n",
       "      <th>Actual</th>\n",
       "      <th>predictions_VGG16</th>\n",
       "    </tr>\n",
       "  </thead>\n",
       "  <tbody>\n",
       "    <tr>\n",
       "      <th>0</th>\n",
       "      <td>0</td>\n",
       "      <td>0</td>\n",
       "    </tr>\n",
       "    <tr>\n",
       "      <th>1</th>\n",
       "      <td>0</td>\n",
       "      <td>0</td>\n",
       "    </tr>\n",
       "    <tr>\n",
       "      <th>2</th>\n",
       "      <td>3</td>\n",
       "      <td>1</td>\n",
       "    </tr>\n",
       "    <tr>\n",
       "      <th>3</th>\n",
       "      <td>3</td>\n",
       "      <td>3</td>\n",
       "    </tr>\n",
       "    <tr>\n",
       "      <th>4</th>\n",
       "      <td>0</td>\n",
       "      <td>0</td>\n",
       "    </tr>\n",
       "    <tr>\n",
       "      <th>...</th>\n",
       "      <td>...</td>\n",
       "      <td>...</td>\n",
       "    </tr>\n",
       "    <tr>\n",
       "      <th>7495</th>\n",
       "      <td>3</td>\n",
       "      <td>1</td>\n",
       "    </tr>\n",
       "    <tr>\n",
       "      <th>7496</th>\n",
       "      <td>0</td>\n",
       "      <td>0</td>\n",
       "    </tr>\n",
       "    <tr>\n",
       "      <th>7497</th>\n",
       "      <td>4</td>\n",
       "      <td>0</td>\n",
       "    </tr>\n",
       "    <tr>\n",
       "      <th>7498</th>\n",
       "      <td>0</td>\n",
       "      <td>3</td>\n",
       "    </tr>\n",
       "    <tr>\n",
       "      <th>7499</th>\n",
       "      <td>0</td>\n",
       "      <td>0</td>\n",
       "    </tr>\n",
       "  </tbody>\n",
       "</table>\n",
       "<p>7500 rows × 2 columns</p>\n",
       "</div>"
      ],
      "text/plain": [
       "      Actual  predictions_VGG16\n",
       "0          0                  0\n",
       "1          0                  0\n",
       "2          3                  1\n",
       "3          3                  3\n",
       "4          0                  0\n",
       "...      ...                ...\n",
       "7495       3                  1\n",
       "7496       0                  0\n",
       "7497       4                  0\n",
       "7498       0                  3\n",
       "7499       0                  0\n",
       "\n",
       "[7500 rows x 2 columns]"
      ]
     },
     "execution_count": 22,
     "metadata": {},
     "output_type": "execute_result"
    }
   ],
   "source": [
    "predictions_VGG16 = model_VGG16.predict(test_gen)\n",
    "y_pred = np.argmax(predictions_VGG16,axis=1)\n",
    "y_test =test_gen.classes\n",
    "df = pd.DataFrame({'Actual':y_test,'predictions_VGG16':y_pred})\n",
    "df"
   ]
  },
  {
   "cell_type": "code",
   "execution_count": 23,
   "id": "4787b453",
   "metadata": {
    "execution": {
     "iopub.execute_input": "2024-01-26T06:59:55.179003Z",
     "iopub.status.busy": "2024-01-26T06:59:55.178648Z",
     "iopub.status.idle": "2024-01-26T06:59:55.190328Z",
     "shell.execute_reply": "2024-01-26T06:59:55.189453Z"
    },
    "papermill": {
     "duration": 3.088468,
     "end_time": "2024-01-26T06:59:55.192124",
     "exception": false,
     "start_time": "2024-01-26T06:59:52.103656",
     "status": "completed"
    },
    "tags": []
   },
   "outputs": [
    {
     "data": {
      "text/plain": [
       "array([[1343,    1,    6,   40,   56],\n",
       "       [   0, 1505,    1,   35,    1],\n",
       "       [   4,    0, 1529,   22,    0],\n",
       "       [   3,  109,    7, 1338,    0],\n",
       "       [  97,    0,    1,    0, 1402]])"
      ]
     },
     "execution_count": 23,
     "metadata": {},
     "output_type": "execute_result"
    }
   ],
   "source": [
    "cm = confusion_matrix(y_test,y_pred)\n",
    "cm"
   ]
  },
  {
   "cell_type": "code",
   "execution_count": 24,
   "id": "1ae86677",
   "metadata": {
    "execution": {
     "iopub.execute_input": "2024-01-26T07:00:01.369164Z",
     "iopub.status.busy": "2024-01-26T07:00:01.368224Z",
     "iopub.status.idle": "2024-01-26T07:00:01.396739Z",
     "shell.execute_reply": "2024-01-26T07:00:01.395743Z"
    },
    "papermill": {
     "duration": 3.126297,
     "end_time": "2024-01-26T07:00:01.398853",
     "exception": false,
     "start_time": "2024-01-26T06:59:58.272556",
     "status": "completed"
    },
    "tags": []
   },
   "outputs": [
    {
     "name": "stdout",
     "output_type": "stream",
     "text": [
      "Classification Report :               precision    recall  f1-score   support\n",
      "\n",
      "           0       0.93      0.93      0.93      1446\n",
      "           1       0.93      0.98      0.95      1542\n",
      "           2       0.99      0.98      0.99      1555\n",
      "           3       0.93      0.92      0.93      1457\n",
      "           4       0.96      0.93      0.95      1500\n",
      "\n",
      "    accuracy                           0.95      7500\n",
      "   macro avg       0.95      0.95      0.95      7500\n",
      "weighted avg       0.95      0.95      0.95      7500\n",
      "\n"
     ]
    }
   ],
   "source": [
    "classificationReport = classification_report(y_test,y_pred)\n",
    "print(f'Classification Report : {classificationReport}')"
   ]
  },
  {
   "cell_type": "markdown",
   "id": "4a9cdb0e",
   "metadata": {
    "papermill": {
     "duration": 3.166327,
     "end_time": "2024-01-26T07:00:07.670632",
     "exception": false,
     "start_time": "2024-01-26T07:00:04.504305",
     "status": "completed"
    },
    "tags": []
   },
   "source": [
    "## Prediction MobileNetV2"
   ]
  },
  {
   "cell_type": "code",
   "execution_count": 25,
   "id": "7112f81c",
   "metadata": {
    "execution": {
     "iopub.execute_input": "2024-01-26T07:00:13.856806Z",
     "iopub.status.busy": "2024-01-26T07:00:13.855933Z",
     "iopub.status.idle": "2024-01-26T07:00:31.899256Z",
     "shell.execute_reply": "2024-01-26T07:00:31.898310Z"
    },
    "papermill": {
     "duration": 21.132487,
     "end_time": "2024-01-26T07:00:31.901207",
     "exception": false,
     "start_time": "2024-01-26T07:00:10.768720",
     "status": "completed"
    },
    "tags": []
   },
   "outputs": [
    {
     "name": "stdout",
     "output_type": "stream",
     "text": [
      "235/235 [==============================] - 18s 72ms/step\n"
     ]
    },
    {
     "data": {
      "text/html": [
       "<div>\n",
       "<style scoped>\n",
       "    .dataframe tbody tr th:only-of-type {\n",
       "        vertical-align: middle;\n",
       "    }\n",
       "\n",
       "    .dataframe tbody tr th {\n",
       "        vertical-align: top;\n",
       "    }\n",
       "\n",
       "    .dataframe thead th {\n",
       "        text-align: right;\n",
       "    }\n",
       "</style>\n",
       "<table border=\"1\" class=\"dataframe\">\n",
       "  <thead>\n",
       "    <tr style=\"text-align: right;\">\n",
       "      <th></th>\n",
       "      <th>Actual</th>\n",
       "      <th>predictions_MobileNetV2</th>\n",
       "    </tr>\n",
       "  </thead>\n",
       "  <tbody>\n",
       "    <tr>\n",
       "      <th>0</th>\n",
       "      <td>0</td>\n",
       "      <td>4</td>\n",
       "    </tr>\n",
       "    <tr>\n",
       "      <th>1</th>\n",
       "      <td>0</td>\n",
       "      <td>0</td>\n",
       "    </tr>\n",
       "    <tr>\n",
       "      <th>2</th>\n",
       "      <td>3</td>\n",
       "      <td>3</td>\n",
       "    </tr>\n",
       "    <tr>\n",
       "      <th>3</th>\n",
       "      <td>3</td>\n",
       "      <td>3</td>\n",
       "    </tr>\n",
       "    <tr>\n",
       "      <th>4</th>\n",
       "      <td>0</td>\n",
       "      <td>0</td>\n",
       "    </tr>\n",
       "    <tr>\n",
       "      <th>...</th>\n",
       "      <td>...</td>\n",
       "      <td>...</td>\n",
       "    </tr>\n",
       "    <tr>\n",
       "      <th>7495</th>\n",
       "      <td>3</td>\n",
       "      <td>3</td>\n",
       "    </tr>\n",
       "    <tr>\n",
       "      <th>7496</th>\n",
       "      <td>0</td>\n",
       "      <td>0</td>\n",
       "    </tr>\n",
       "    <tr>\n",
       "      <th>7497</th>\n",
       "      <td>4</td>\n",
       "      <td>4</td>\n",
       "    </tr>\n",
       "    <tr>\n",
       "      <th>7498</th>\n",
       "      <td>0</td>\n",
       "      <td>0</td>\n",
       "    </tr>\n",
       "    <tr>\n",
       "      <th>7499</th>\n",
       "      <td>0</td>\n",
       "      <td>0</td>\n",
       "    </tr>\n",
       "  </tbody>\n",
       "</table>\n",
       "<p>7500 rows × 2 columns</p>\n",
       "</div>"
      ],
      "text/plain": [
       "      Actual  predictions_MobileNetV2\n",
       "0          0                        4\n",
       "1          0                        0\n",
       "2          3                        3\n",
       "3          3                        3\n",
       "4          0                        0\n",
       "...      ...                      ...\n",
       "7495       3                        3\n",
       "7496       0                        0\n",
       "7497       4                        4\n",
       "7498       0                        0\n",
       "7499       0                        0\n",
       "\n",
       "[7500 rows x 2 columns]"
      ]
     },
     "execution_count": 25,
     "metadata": {},
     "output_type": "execute_result"
    }
   ],
   "source": [
    "predictions_MobileNetV2 = model_MobileNetV2.predict(test_gen)\n",
    "y_pred = np.argmax(predictions_MobileNetV2,axis=1)\n",
    "y_test =test_gen.classes\n",
    "df = pd.DataFrame({'Actual':y_test,'predictions_MobileNetV2':y_pred})\n",
    "df"
   ]
  },
  {
   "cell_type": "code",
   "execution_count": 26,
   "id": "5c5084da",
   "metadata": {
    "execution": {
     "iopub.execute_input": "2024-01-26T07:00:38.101537Z",
     "iopub.status.busy": "2024-01-26T07:00:38.100774Z",
     "iopub.status.idle": "2024-01-26T07:00:38.111319Z",
     "shell.execute_reply": "2024-01-26T07:00:38.110461Z"
    },
    "papermill": {
     "duration": 3.101418,
     "end_time": "2024-01-26T07:00:38.113118",
     "exception": false,
     "start_time": "2024-01-26T07:00:35.011700",
     "status": "completed"
    },
    "tags": []
   },
   "outputs": [
    {
     "data": {
      "text/plain": [
       "array([[1283,    0,   21,   33,  109],\n",
       "       [   0, 1416,    2,  124,    0],\n",
       "       [   5,    0, 1531,   19,    0],\n",
       "       [   6,   69,   34, 1348,    0],\n",
       "       [  96,    0,    2,    2, 1400]])"
      ]
     },
     "execution_count": 26,
     "metadata": {},
     "output_type": "execute_result"
    }
   ],
   "source": [
    "cm = confusion_matrix(y_test,y_pred)\n",
    "cm"
   ]
  },
  {
   "cell_type": "code",
   "execution_count": 27,
   "id": "9ab97ca3",
   "metadata": {
    "execution": {
     "iopub.execute_input": "2024-01-26T07:00:44.339894Z",
     "iopub.status.busy": "2024-01-26T07:00:44.339548Z",
     "iopub.status.idle": "2024-01-26T07:00:44.364707Z",
     "shell.execute_reply": "2024-01-26T07:00:44.363584Z"
    },
    "papermill": {
     "duration": 3.125834,
     "end_time": "2024-01-26T07:00:44.366569",
     "exception": false,
     "start_time": "2024-01-26T07:00:41.240735",
     "status": "completed"
    },
    "tags": []
   },
   "outputs": [
    {
     "name": "stdout",
     "output_type": "stream",
     "text": [
      "Classification Report :               precision    recall  f1-score   support\n",
      "\n",
      "           0       0.92      0.89      0.90      1446\n",
      "           1       0.95      0.92      0.94      1542\n",
      "           2       0.96      0.98      0.97      1555\n",
      "           3       0.88      0.93      0.90      1457\n",
      "           4       0.93      0.93      0.93      1500\n",
      "\n",
      "    accuracy                           0.93      7500\n",
      "   macro avg       0.93      0.93      0.93      7500\n",
      "weighted avg       0.93      0.93      0.93      7500\n",
      "\n"
     ]
    }
   ],
   "source": [
    "classificationReport = classification_report(y_test,y_pred)\n",
    "print(f'Classification Report : {classificationReport}')"
   ]
  },
  {
   "cell_type": "markdown",
   "id": "eb9fb2a4",
   "metadata": {
    "papermill": {
     "duration": 3.180867,
     "end_time": "2024-01-26T07:00:50.645404",
     "exception": false,
     "start_time": "2024-01-26T07:00:47.464537",
     "status": "completed"
    },
    "tags": []
   },
   "source": [
    "## The END"
   ]
  },
  {
   "cell_type": "markdown",
   "id": "7cbc913c",
   "metadata": {
    "papermill": {
     "duration": 3.081052,
     "end_time": "2024-01-26T07:00:56.913886",
     "exception": false,
     "start_time": "2024-01-26T07:00:53.832834",
     "status": "completed"
    },
    "tags": []
   },
   "source": [
    "Plese suggest ways to improve the model and be a strong critic of the entire notebook."
   ]
  }
 ],
 "metadata": {
  "kaggle": {
   "accelerator": "none",
   "dataSources": [
    {
     "datasetId": 2049052,
     "sourceId": 3399185,
     "sourceType": "datasetVersion"
    }
   ],
   "dockerImageVersionId": 30635,
   "isGpuEnabled": false,
   "isInternetEnabled": true,
   "language": "python",
   "sourceType": "notebook"
  },
  "kernelspec": {
   "display_name": "Python 3",
   "language": "python",
   "name": "python3"
  },
  "language_info": {
   "codemirror_mode": {
    "name": "ipython",
    "version": 3
   },
   "file_extension": ".py",
   "mimetype": "text/x-python",
   "name": "python",
   "nbconvert_exporter": "python",
   "pygments_lexer": "ipython3",
   "version": "3.10.12"
  },
  "papermill": {
   "default_parameters": {},
   "duration": 4041.40365,
   "end_time": "2024-01-26T07:01:02.753909",
   "environment_variables": {},
   "exception": null,
   "input_path": "__notebook__.ipynb",
   "output_path": "__notebook__.ipynb",
   "parameters": {},
   "start_time": "2024-01-26T05:53:41.350259",
   "version": "2.4.0"
  }
 },
 "nbformat": 4,
 "nbformat_minor": 5
}
